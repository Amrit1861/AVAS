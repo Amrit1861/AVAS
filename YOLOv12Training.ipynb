import os
import glob
from IPython.display import Image,display
from roboflow import Roboflow
import ultralytics
from ultralytics import YOLO
import torch
import torch
print("CUDA Available:", torch.cuda.is_available())
print("GPU Count:", torch.cuda.device_count())
print("GPU Name:", torch.cuda.get_device_name(0) if torch.cuda.is_available() else "No GPU detected")
import torch
print(torch.cuda.is_available())  # Should return True
print(torch.cuda.get_device_name(0))  # Should show your GPU name
ultralytics.checks()
import roboflow

rf = roboflow.Roboflow(api_key)

# List all projects for your workspace
workspace = rf.workspace()

# get a project
project = rf.workspace().project("avas-lpson")
version = project.version(12)
dataset=version.download("yolov12")
model = YOLO('yolo12s.pt')  
model.train(
    data="C:\Projects\College\Major Project\yolov12\AVAS-12\data.yaml",  
    epochs=50,  
    imgsz=640    
)
