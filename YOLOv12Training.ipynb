!pip install roboflow
!pip install ultralytics
import os
import glob
from IPython.display import Image,display
from roboflow import Roboflow
import ultralytics
from ultralytics import YOLO
import torch
import torch
print("CUDA Available:", torch.cuda.is_available())
print("GPU Count:", torch.cuda.device_count())
print("GPU Name:", torch.cuda.get_device_name(0) if torch.cuda.is_available() else "No GPU detected")
import roboflow

rf = roboflow.Roboflow(api_key='XdlrEPtMnjQYVaYOP2Cj')

# List all projects for your workspace
workspace = rf.workspace()

# get a project
project = rf.workspace().project("my-first-project-tcb5u")
version = project.version(1)
dataset=version.download("yolov12")
model = YOLO('yolo12s.pt')
model.train(
    data="/content/My-First-Project-1/data.yaml",
    epochs=53,
    imgsz=640
)
